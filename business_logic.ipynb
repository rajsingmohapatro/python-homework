{
 "cells": [
  {
   "cell_type": "code",
   "execution_count": 13,
   "id": "69c03e06",
   "metadata": {},
   "outputs": [],
   "source": [
    "#The total number of months included in the dataset.\n",
    "def get_total_number_of_months(csv_data_frame):\n",
    "    csv_data_frame = csv_data_frame['Date'].dropna().copy()\n",
    "    return csv_data_frame.count()\n",
    "    \n",
    "\n",
    "#The net total amount of Profit/Losses over the entire period.\n",
    "def total_amount_of_profit_loss(csv_data_frame):\n",
    "    return csv_data_frame['Profit/Losses'].sum()\n",
    "\n",
    "#The average of the changes in Profit/Losses over the entire period.\n",
    "def average_profit_losses(csv_data_frame):\n",
    "    average_change = 0\n",
    "    profit_loss_column = csv_data_frame['Profit/Losses']\n",
    "    for i in range (1, len(profit_loss_column)):\n",
    "        average_change += profit_loss_column[i-1] - profit_loss_column[i]\n",
    "        \n",
    "    return  average_change/(csv_data_frame['Profit/Losses'].count() - 1)                                                         \n",
    "\n",
    "#The greatest increase in profits (date and amount) over the entire period.\n",
    "#def greatest_increase_in_profit(csv_data_frame):\n",
    "    max_increase_in_profit = 0\n",
    "    max_increase_in_profit_row_num = 0\n",
    "    for row in csv_data_frame:\n",
    "        if int(row[1]) > max_increase_in_profit:\n",
    "            max_increase_in_profit = row[1]\n",
    "            max_increase_in_profit_row_num = row.index\n",
    "    print(max_increase_in_profit_row_num)\n",
    "            \n",
    "   # return csv_data_frame[max_increase_in_profit_row_num]\n",
    "               \n",
    "   \n",
    "    \n",
    "\n",
    "\n",
    "#The greatest decrease in losses (date and amount) over the entire period."
   ]
  },
  {
   "cell_type": "code",
   "execution_count": null,
   "id": "5f50f601",
   "metadata": {},
   "outputs": [],
   "source": []
  },
  {
   "cell_type": "code",
   "execution_count": null,
   "id": "0f8ae82b",
   "metadata": {},
   "outputs": [],
   "source": []
  },
  {
   "cell_type": "code",
   "execution_count": null,
   "id": "0d50ffb6",
   "metadata": {},
   "outputs": [],
   "source": []
  }
 ],
 "metadata": {
  "kernelspec": {
   "display_name": "Python 3",
   "language": "python",
   "name": "python3"
  },
  "language_info": {
   "codemirror_mode": {
    "name": "ipython",
    "version": 3
   },
   "file_extension": ".py",
   "mimetype": "text/x-python",
   "name": "python",
   "nbconvert_exporter": "python",
   "pygments_lexer": "ipython3",
   "version": "3.7.10"
  }
 },
 "nbformat": 4,
 "nbformat_minor": 5
}

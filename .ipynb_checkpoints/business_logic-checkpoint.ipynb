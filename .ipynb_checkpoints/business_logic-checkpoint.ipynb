{
 "cells": [
  {
   "cell_type": "code",
   "execution_count": 1,
   "id": "dc98f939",
   "metadata": {},
   "outputs": [],
   "source": [
    "#The total number of months included in the dataset.\n",
    "def get_total_number_of_months(csv_data_frame):\n",
    "    csv_data_frame = csv_data_frame['Date'].dropna().copy()\n",
    "    return csv_data_frame.count()\n",
    "    \n",
    "\n",
    "#The net total amount of Profit/Losses over the entire period.\n",
    "def total_amount_of_profit_loss(csv_data_frame):\n",
    "    return csv_data_frame['Profit/Losses'].sum()\n",
    "\n",
    "#The average of the changes in Profit/Losses over the entire period.\n",
    "def average_profit_losses(csv_data_frame):\n",
    "    average_change = 0\n",
    "    profit_loss_column = csv_data_frame['Profit/Losses']\n",
    "    for i in range (1, len(profit_loss_column)):\n",
    "        average_change += int(profit_loss_column[i]) - int(profit_loss_column[i-1])\n",
    "        \n",
    "    return  average_change/(csv_data_frame['Profit/Losses'].count() - 1)                                                         \n",
    "\n",
    "#The greatest increase in profits (date and amount) over the entire period.\n",
    "def greatest_increase_in_profit(csv_data_frame):\n",
    "    max_increase_in_profit = 0\n",
    "    max_increase_in_profit_row_num = 1\n",
    "    profit_loss_column = csv_data_frame['Profit/Losses']\n",
    "    for i in range (1, len(profit_loss_column)):\n",
    "        if int(profit_loss_column[i]) > max_increase_in_profit:\n",
    "            max_increase_in_profit = profit_loss_column[i]\n",
    "            max_increase_in_profit_row_num = i\n",
    "            \n",
    "    return max_increase_in_profit_row_num\n",
    "               \n",
    "\n",
    "#The greatest decrease in losses (date and amount) over the entire period.\n",
    "def greatest_decrease_in_profit(csv_data_frame):\n",
    "    max_decrease_in_profit = 0\n",
    "    max_decrease_in_profit_row_num = 1\n",
    "    profit_loss_column = csv_data_frame['Profit/Losses']\n",
    "    for i in range (1, len(profit_loss_column)):\n",
    "        if int(profit_loss_column[i]) < max_decrease_in_profit:\n",
    "            max_decrease_in_profit = profit_loss_column[i]\n",
    "            max_decrease_in_profit_row_num = i\n",
    "            \n",
    "    return max_decrease_in_profit_row_num"
   ]
  },
  {
   "cell_type": "code",
   "execution_count": null,
   "id": "2f1a50c7",
   "metadata": {},
   "outputs": [],
   "source": []
  },
  {
   "cell_type": "code",
   "execution_count": null,
   "id": "63101e02",
   "metadata": {},
   "outputs": [],
   "source": []
  },
  {
   "cell_type": "code",
   "execution_count": null,
   "id": "46ee87e5",
   "metadata": {},
   "outputs": [],
   "source": []
  },
  {
   "cell_type": "code",
   "execution_count": null,
   "id": "bddf0194",
   "metadata": {},
   "outputs": [],
   "source": []
  }
 ],
 "metadata": {
  "kernelspec": {
   "display_name": "Python 3",
   "language": "python",
   "name": "python3"
  },
  "language_info": {
   "codemirror_mode": {
    "name": "ipython",
    "version": 3
   },
   "file_extension": ".py",
   "mimetype": "text/x-python",
   "name": "python",
   "nbconvert_exporter": "python",
   "pygments_lexer": "ipython3",
   "version": "3.7.10"
  }
 },
 "nbformat": 4,
 "nbformat_minor": 5
}

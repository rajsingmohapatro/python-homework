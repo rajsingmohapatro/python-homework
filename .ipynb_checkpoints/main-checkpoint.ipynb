{
 "cells": [
  {
   "cell_type": "code",
   "execution_count": 1,
   "id": "6ad52406",
   "metadata": {},
   "outputs": [],
   "source": [
    "#import dataset related package readcsv.ipynb\n",
    "#import all business logic related methods from businessc_logic.ipynb package\n",
    "\n",
    "from ipynb.fs.full.readcsv import read_any_csv_file \n",
    "from ipynb.fs.full.business_logic import *"
   ]
  },
  {
   "cell_type": "code",
   "execution_count": 12,
   "id": "2d82ad60",
   "metadata": {},
   "outputs": [
    {
     "ename": "TypeError",
     "evalue": "'>' not supported between instances of 'str' and 'int'",
     "output_type": "error",
     "traceback": [
      "\u001b[1;31m---------------------------------------------------------------------------\u001b[0m",
      "\u001b[1;31mTypeError\u001b[0m                                 Traceback (most recent call last)",
      "\u001b[1;32m<ipython-input-12-76c88c046716>\u001b[0m in \u001b[0;36m<module>\u001b[1;34m\u001b[0m\n\u001b[0;32m      3\u001b[0m \u001b[0mmax_increase_in_profit_row_num\u001b[0m \u001b[1;33m=\u001b[0m \u001b[1;36m0\u001b[0m\u001b[1;33m\u001b[0m\u001b[1;33m\u001b[0m\u001b[0m\n\u001b[0;32m      4\u001b[0m \u001b[1;32mfor\u001b[0m \u001b[0mrow\u001b[0m \u001b[1;32min\u001b[0m \u001b[0mcsv_data_frame\u001b[0m\u001b[1;33m:\u001b[0m\u001b[1;33m\u001b[0m\u001b[1;33m\u001b[0m\u001b[0m\n\u001b[1;32m----> 5\u001b[1;33m     \u001b[1;32mif\u001b[0m \u001b[0mrow\u001b[0m\u001b[1;33m[\u001b[0m\u001b[1;36m1\u001b[0m\u001b[1;33m]\u001b[0m \u001b[1;33m>\u001b[0m \u001b[0mmax_increase_in_profit\u001b[0m\u001b[1;33m:\u001b[0m\u001b[1;33m\u001b[0m\u001b[1;33m\u001b[0m\u001b[0m\n\u001b[0m\u001b[0;32m      6\u001b[0m         \u001b[0mmax_increase_in_profit\u001b[0m \u001b[1;33m=\u001b[0m \u001b[0mrow\u001b[0m\u001b[1;33m[\u001b[0m\u001b[1;36m1\u001b[0m\u001b[1;33m]\u001b[0m\u001b[1;33m\u001b[0m\u001b[1;33m\u001b[0m\u001b[0m\n\u001b[0;32m      7\u001b[0m         \u001b[0mmax_increase_in_profit_row_num\u001b[0m \u001b[1;33m=\u001b[0m \u001b[0mrow\u001b[0m\u001b[1;33m.\u001b[0m\u001b[0mindex\u001b[0m\u001b[1;33m\u001b[0m\u001b[1;33m\u001b[0m\u001b[0m\n",
      "\u001b[1;31mTypeError\u001b[0m: '>' not supported between instances of 'str' and 'int'"
     ]
    }
   ],
   "source": [
    "csv_data_frame = read_any_csv_file('./References/budget_data.csv')    \n",
    "max_increase_in_profit = 0\n",
    "max_increase_in_profit_row_num = 0\n",
    "for row in csv_data_frame:\n",
    "    print(row[1])\n",
    "    #if int(row[1] > max_increase_in_profit:\n",
    "     #   max_increase_in_profit = row[1]\n",
    "      #  max_increase_in_profit_row_num = row.index\n",
    "print(max_increase_in_profit_row_num)\n",
    "print(\"Financial Analysis\\n\")\n",
    "print(\"----------------------------\\n\")\n",
    "print(\"number of date column included is : \"+ str(get_total_number_of_months(csv_data_frame)))\n",
    "print(\"\\nTotal : $\"+ str(total_amount_of_profit_loss(csv_data_frame)))\n",
    "print(\"\\nAverage  Change : ${}\".format(average_profit_losses(csv_data_frame)))\n",
    "df = greatest_increase_in_profit(csv_data_frame)\n",
    "print(\"\\nGreatest Increase in Profits:{} (${})\".format(df['Date'],df['Profit/Losses']))\n"
   ]
  },
  {
   "cell_type": "code",
   "execution_count": null,
   "id": "4e1307dc",
   "metadata": {},
   "outputs": [],
   "source": []
  },
  {
   "cell_type": "code",
   "execution_count": null,
   "id": "24d50163",
   "metadata": {},
   "outputs": [],
   "source": []
  },
  {
   "cell_type": "code",
   "execution_count": null,
   "id": "12cfe844",
   "metadata": {},
   "outputs": [],
   "source": []
  },
  {
   "cell_type": "code",
   "execution_count": null,
   "id": "5e11bfea",
   "metadata": {},
   "outputs": [],
   "source": []
  },
  {
   "cell_type": "code",
   "execution_count": null,
   "id": "c28db45f",
   "metadata": {},
   "outputs": [],
   "source": []
  },
  {
   "cell_type": "code",
   "execution_count": null,
   "id": "789f5402",
   "metadata": {},
   "outputs": [],
   "source": []
  },
  {
   "cell_type": "code",
   "execution_count": null,
   "id": "c564eec3",
   "metadata": {},
   "outputs": [],
   "source": []
  }
 ],
 "metadata": {
  "kernelspec": {
   "display_name": "Python 3",
   "language": "python",
   "name": "python3"
  },
  "language_info": {
   "codemirror_mode": {
    "name": "ipython",
    "version": 3
   },
   "file_extension": ".py",
   "mimetype": "text/x-python",
   "name": "python",
   "nbconvert_exporter": "python",
   "pygments_lexer": "ipython3",
   "version": "3.7.10"
  }
 },
 "nbformat": 4,
 "nbformat_minor": 5
}

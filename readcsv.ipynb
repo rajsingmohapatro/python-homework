{
 "cells": [
  {
   "cell_type": "code",
   "execution_count": 3,
   "id": "409f9b40",
   "metadata": {},
   "outputs": [],
   "source": [
    "#This method deals with csv path ,file opening and reading details using pandas package\n",
    "#So that if in future any CSV file handling related changes to be made then only this file gets impacted\n",
    "\n",
    "import pandas as pd\n",
    "from pathlib import Path\n"
   ]
  },
  {
   "cell_type": "code",
   "execution_count": 2,
   "id": "b5586f76",
   "metadata": {},
   "outputs": [],
   "source": [
    "def read_any_csv_file(name_of_the_file):\n",
    "    csv_file_path = Path(name_of_the_file)\n",
    "    csv_data_frame = pd.read_csv(csv_file_path)\n",
    "    return csv_data_frame"
   ]
  },
  {
   "cell_type": "code",
   "execution_count": null,
   "id": "4e522a7f",
   "metadata": {},
   "outputs": [],
   "source": []
  },
  {
   "cell_type": "code",
   "execution_count": null,
   "id": "ac389706",
   "metadata": {},
   "outputs": [],
   "source": []
  }
 ],
 "metadata": {
  "kernelspec": {
   "display_name": "Python 3",
   "language": "python",
   "name": "python3"
  },
  "language_info": {
   "codemirror_mode": {
    "name": "ipython",
    "version": 3
   },
   "file_extension": ".py",
   "mimetype": "text/x-python",
   "name": "python",
   "nbconvert_exporter": "python",
   "pygments_lexer": "ipython3",
   "version": "3.7.10"
  }
 },
 "nbformat": 4,
 "nbformat_minor": 5
}

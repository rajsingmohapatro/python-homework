{
 "cells": [
  {
   "cell_type": "code",
   "execution_count": 1,
   "id": "2f12edb5",
   "metadata": {},
   "outputs": [],
   "source": [
    "#import dataset related package readcsv.ipynb\n",
    "#import all business logic related methods from businessc_logic.ipynb package\n",
    "\n",
    "from ipynb.fs.full.readcsv import read_any_csv_file \n",
    "from ipynb.fs.full.business_logic import *"
   ]
  },
  {
   "cell_type": "code",
   "execution_count": 5,
   "id": "5791a43d",
   "metadata": {},
   "outputs": [
    {
     "name": "stdout",
     "output_type": "stream",
     "text": [
      "Financial Analysis\n",
      "\n",
      "----------------------------\n",
      "\n",
      "number of date column included is : 86\n",
      "\n",
      "Total : $38382578\n",
      "\n",
      "Average  Change : $-2315.1176470588234\n",
      "\n",
      "Greatest Increase in Profits: Feb-2012 ($1170593)\n",
      "\n",
      "Greatest Decrease in Profits: Sep-2013 ($-1196225)\n"
     ]
    }
   ],
   "source": [
    "csv_data_frame = read_any_csv_file('./References/budget_data.csv')    \n",
    "\n",
    "print(\"Financial Analysis\\n\")\n",
    "print(\"----------------------------\\n\")\n",
    "print(\"number of date column included is : \"+ str(get_total_number_of_months(csv_data_frame)))\n",
    "print(\"\\nTotal : $\"+ str(total_amount_of_profit_loss(csv_data_frame)))\n",
    "print(\"\\nAverage  Change : ${}\".format(average_profit_losses(csv_data_frame)))\n",
    "row_no = greatest_increase_in_profit(csv_data_frame)\n",
    "print(\"\\nGreatest Increase in Profits: {} (${})\".format(csv_data_frame['Date'][row_no],csv_data_frame['Profit/Losses'][row_no]))\n",
    "row_no = greatest_decrease_in_profit(csv_data_frame)\n",
    "print(\"\\nGreatest Decrease in Profits: {} (${})\".format(csv_data_frame['Date'][row_no],csv_data_frame['Profit/Losses'][row_no]))"
   ]
  },
  {
   "cell_type": "code",
   "execution_count": null,
   "id": "89e8306b",
   "metadata": {},
   "outputs": [],
   "source": []
  },
  {
   "cell_type": "code",
   "execution_count": null,
   "id": "dfd56bb9",
   "metadata": {},
   "outputs": [],
   "source": []
  },
  {
   "cell_type": "code",
   "execution_count": null,
   "id": "72817b0d",
   "metadata": {},
   "outputs": [],
   "source": []
  },
  {
   "cell_type": "code",
   "execution_count": null,
   "id": "eea123ea",
   "metadata": {},
   "outputs": [],
   "source": []
  },
  {
   "cell_type": "code",
   "execution_count": null,
   "id": "a8d6e18f",
   "metadata": {},
   "outputs": [],
   "source": []
  },
  {
   "cell_type": "code",
   "execution_count": null,
   "id": "87d643e8",
   "metadata": {},
   "outputs": [],
   "source": []
  },
  {
   "cell_type": "code",
   "execution_count": null,
   "id": "0d042839",
   "metadata": {},
   "outputs": [],
   "source": []
  },
  {
   "cell_type": "code",
   "execution_count": null,
   "id": "ebf3b399",
   "metadata": {},
   "outputs": [],
   "source": []
  }
 ],
 "metadata": {
  "kernelspec": {
   "display_name": "Python 3",
   "language": "python",
   "name": "python3"
  },
  "language_info": {
   "codemirror_mode": {
    "name": "ipython",
    "version": 3
   },
   "file_extension": ".py",
   "mimetype": "text/x-python",
   "name": "python",
   "nbconvert_exporter": "python",
   "pygments_lexer": "ipython3",
   "version": "3.7.10"
  }
 },
 "nbformat": 4,
 "nbformat_minor": 5
}
